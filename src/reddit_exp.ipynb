{
 "cells": [
  {
   "cell_type": "code",
   "execution_count": 1,
   "metadata": {},
   "outputs": [],
   "source": [
    "import pandas as pd\n",
    "import numpy as np\n"
   ]
  },
  {
   "cell_type": "code",
   "execution_count": 3,
   "metadata": {},
   "outputs": [
    {
     "data": {
      "text/html": [
       "<div>\n",
       "<style scoped>\n",
       "    .dataframe tbody tr th:only-of-type {\n",
       "        vertical-align: middle;\n",
       "    }\n",
       "\n",
       "    .dataframe tbody tr th {\n",
       "        vertical-align: top;\n",
       "    }\n",
       "\n",
       "    .dataframe thead th {\n",
       "        text-align: right;\n",
       "    }\n",
       "</style>\n",
       "<table border=\"1\" class=\"dataframe\">\n",
       "  <thead>\n",
       "    <tr style=\"text-align: right;\">\n",
       "      <th></th>\n",
       "      <th>text</th>\n",
       "      <th>submission_type</th>\n",
       "      <th>subreddit</th>\n",
       "      <th>label</th>\n",
       "    </tr>\n",
       "  </thead>\n",
       "  <tbody>\n",
       "    <tr>\n",
       "      <th>0</th>\n",
       "      <td>Media: Nobody knows what kamala is about\\n\\nMe...</td>\n",
       "      <td>comment</td>\n",
       "      <td>politics</td>\n",
       "      <td>kamala</td>\n",
       "    </tr>\n",
       "    <tr>\n",
       "      <th>1</th>\n",
       "      <td>NYT breaking news that Netanyahu has agreed to...</td>\n",
       "      <td>comment</td>\n",
       "      <td>politics</td>\n",
       "      <td>trumper</td>\n",
       "    </tr>\n",
       "    <tr>\n",
       "      <th>2</th>\n",
       "      <td>I love how the stock crash 2 weeks ago was HUG...</td>\n",
       "      <td>comment</td>\n",
       "      <td>politics</td>\n",
       "      <td>trump</td>\n",
       "    </tr>\n",
       "    <tr>\n",
       "      <th>3</th>\n",
       "      <td>I was thinking this morning about how freaking...</td>\n",
       "      <td>comment</td>\n",
       "      <td>politics</td>\n",
       "      <td>trumper</td>\n",
       "    </tr>\n",
       "    <tr>\n",
       "      <th>4</th>\n",
       "      <td>Conservative in a purple state. I'm voting for...</td>\n",
       "      <td>comment</td>\n",
       "      <td>politics</td>\n",
       "      <td>trump</td>\n",
       "    </tr>\n",
       "  </tbody>\n",
       "</table>\n",
       "</div>"
      ],
      "text/plain": [
       "                                                text submission_type  \\\n",
       "0  Media: Nobody knows what kamala is about\\n\\nMe...         comment   \n",
       "1  NYT breaking news that Netanyahu has agreed to...         comment   \n",
       "2  I love how the stock crash 2 weeks ago was HUG...         comment   \n",
       "3  I was thinking this morning about how freaking...         comment   \n",
       "4  Conservative in a purple state. I'm voting for...         comment   \n",
       "\n",
       "  subreddit    label  \n",
       "0  politics   kamala  \n",
       "1  politics  trumper  \n",
       "2  politics    trump  \n",
       "3  politics  trumper  \n",
       "4  politics    trump  "
      ]
     },
     "execution_count": 3,
     "metadata": {},
     "output_type": "execute_result"
    }
   ],
   "source": [
    "df = pd.read_csv(r\"C:\\Users\\34616\\Documents\\4GEEKS\\datos_gordos\\reddit\\Scraping_results\\copias_porsiaca\\all_hotscrape_v2(elbueno).csv\")\n",
    "df.head()"
   ]
  },
  {
   "cell_type": "code",
   "execution_count": 4,
   "metadata": {},
   "outputs": [
    {
     "data": {
      "text/plain": [
       "(187613, 4)"
      ]
     },
     "execution_count": 4,
     "metadata": {},
     "output_type": "execute_result"
    }
   ],
   "source": [
    "df.shape"
   ]
  },
  {
   "cell_type": "markdown",
   "metadata": {},
   "source": [
    "redefining keywords"
   ]
  },
  {
   "cell_type": "code",
   "execution_count": 5,
   "metadata": {},
   "outputs": [],
   "source": [
    "democrat_keywords = [\n",
    "    # General Democrat references\n",
    "    'democrat', 'dems', 'liberal', 'libs', 'left-wing', 'leftist', 'snowflake', \n",
    "    'blue wave', 'democratic party', 'progressive', 'woke', 'sjw', 'social justice warrior',\n",
    "\n",
    "    # Joe Biden\n",
    "    'biden', 'joe biden', 'sleepy joe', 'creepy joe', 'joey', 'the big guy', 'potato', \n",
    "    'senile joe', 'bidenflation', 'brandon', 'lets go brandon', 'bribem', \n",
    "\n",
    "    # Kamala Harris\n",
    "    'kamala', 'kamala harris', 'heels up', 'heels up harris', 'knee pads', 'cameltoe harris', \n",
    "    'kamal', 'kamalala', 'mala mala', 'cackling harris', 'veep harris', 'madam vp', 'vp harris',\n",
    "\n",
    "    # Nancy Pelosi\n",
    "    'pelosi', 'nancy pelosi', 'crazy nancy', 'auntie nancy', 'nancypants', 'nasty nancy', 'pelo-clown', \n",
    "\n",
    "    # Barack Obama\n",
    "    'obama', 'barack obama', 'obummer', 'nobama', 'barry', 'barry soetoro',\n",
    "\n",
    "    # Alexandria Ocasio-Cortez\n",
    "    'aoc', 'alexandria ocasio-cortez', 'ocrazio', 'aocrazio', 'ocasiotard', 'aocloon', 'aoc clown', 'green new deal girl', \n",
    "    'sandy', 'bartender',\n",
    "\n",
    "    # Bernie Sanders\n",
    "    'bernie', 'bernie sanders', 'comrade sanders', 'bernout', 'feel the bern', 'grandpa socialism', 'old bernie', 'crazy bernie',\n",
    "\n",
    "    # Elizabeth Warren\n",
    "    'elizabeth warren', 'warren', 'pocahontas', 'fauxcahontas', 'lizzie warren', 'warren the warrior', 'chief warren',\n",
    "\n",
    "    # Other prominent Democrats\n",
    "    'hillary', 'hillary clinton', 'crooked hillary', 'killary', 'clinton', 'chelsea clinton', 'the clintons', \n",
    "    'adam schiff', 'schifty schiff', 'shifty schiff', 'jerry nadler', 'fat jerry',\n",
    "\n",
    "    # Voters/supporters\n",
    "    'dem voter', 'democrats supporter', 'lib voter', 'woke mob', 'sjw army', 'antifa', 'lefty', 'blm', 'black lives matter', \n",
    "    'democrat loyalist', 'progressive left', 'radical left', 'anarchist', 'feminazi', 'the squad'\n",
    "]\n",
    "\n",
    "republican_keywords = [\n",
    "    # General Republican references\n",
    "    'republican', 'gop', 'right-wing', 'rightie', 'conservative', 'maga', 'red wave', 'republican party', \n",
    "    'patriot', 'nationalist', 'the right', 'alt-right', 'alt right', 'chud', 'repubtard', 'repugs', \n",
    "\n",
    "    # Donald Trump\n",
    "    'trump', 'donald trump', 'the donald', 'orange man', 'orangutan', 'orangeman bad', 'drumpf', 'trumpster', \n",
    "    'trumptard', 'trumpkin', 'the cheeto', 'cheeto jesus', 'maga king', 'god emperor', 'tangerine tyrant', '45', \n",
    "    'donald dump', 'trumpanzee', 'trumplethinskin', 'trumpenstein',\n",
    "\n",
    "    # Other Trump family members\n",
    "    'melania', 'melania trump', 'ivanka', 'ivanka trump', 'eric trump', 'donald jr', 'don jr', 'tiffany trump', 'barron trump',\n",
    "\n",
    "    # Ted Cruz\n",
    "    'ted cruz', 'lyin ted', 'cruz missile', 'creepy cruz', 'texas senator', \n",
    "\n",
    "    # Mitch McConnell\n",
    "    'mitch mcconnell', 'mcconnell', 'mitch the turtle', 'mitch', 'moscow mitch', 'the turtle',\n",
    "\n",
    "    # Ron DeSantis\n",
    "    'ron desantis', 'desantis', 'deathsantis', 'florida man', 'governor desantis', 'ron the con', 'rondesantis', 'rondan', \n",
    "\n",
    "    # Lindsey Graham\n",
    "    'lindsey graham', 'lady g', 'graham cracker', 'closet graham', 'senator graham', 'miss lindsey', \n",
    "\n",
    "    # Other prominent Republicans\n",
    "    'mike pence', 'pence', 'iron mike', 'deputy dog', 'kevin mccarthy', 'sean hannity', 'tucker carlson', \n",
    "    'matt gaetz', 'gaetz', 'fox news', 'gutfeld', 'tom cotton', 'josh hawley', 'lauren boebert', 'marjorie taylor greene', \n",
    "    'mgt', 'green new deal reject',\n",
    "\n",
    "    # Voters/supporters\n",
    "    'maga voter', 'maga mob', 'trump voter', 'trumpist', 'patriot', 'republican loyalist', 'trump supporter', \n",
    "    'deplorable', 'qanon', 'trump army', 'right-winger', 'christian conservative', 'militia', 'gun rights', '2nd amendment'\n",
    "]\n"
   ]
  },
  {
   "cell_type": "code",
   "execution_count": 6,
   "metadata": {},
   "outputs": [],
   "source": [
    "import re\n",
    "\n",
    "def contains_democrat_keyword(text):\n",
    "    return any(re.search(r'\\b' + re.escape(keyword) + r'\\b', text.lower()) for keyword in democrat_keywords)\n",
    "\n",
    "def contains_republican_keyword(text):\n",
    "    return any(re.search(r'\\b' + re.escape(keyword) + r'\\b', text.lower()) for keyword in republican_keywords)\n"
   ]
  },
  {
   "cell_type": "code",
   "execution_count": 7,
   "metadata": {},
   "outputs": [],
   "source": [
    "def relabel_posts(df):\n",
    "    new_labels = []\n",
    "\n",
    "    for text in df['text']:\n",
    "        democrat_found = contains_democrat_keyword(text)\n",
    "        republican_found = contains_republican_keyword(text)\n",
    "\n",
    "        if democrat_found and republican_found:\n",
    "            new_labels.append('Both')\n",
    "        elif democrat_found:\n",
    "            new_labels.append('Democrat')\n",
    "        elif republican_found:\n",
    "            new_labels.append('Republican')\n",
    "        else:\n",
    "            new_labels.append('Neutral')\n",
    "    \n",
    "    # Update the DataFrame with the new labels\n",
    "    df['labels'] = new_labels\n",
    "    return df\n"
   ]
  },
  {
   "cell_type": "code",
   "execution_count": 9,
   "metadata": {},
   "outputs": [],
   "source": [
    "df = relabel_posts(df)"
   ]
  },
  {
   "cell_type": "code",
   "execution_count": 10,
   "metadata": {},
   "outputs": [
    {
     "data": {
      "text/html": [
       "<div>\n",
       "<style scoped>\n",
       "    .dataframe tbody tr th:only-of-type {\n",
       "        vertical-align: middle;\n",
       "    }\n",
       "\n",
       "    .dataframe tbody tr th {\n",
       "        vertical-align: top;\n",
       "    }\n",
       "\n",
       "    .dataframe thead th {\n",
       "        text-align: right;\n",
       "    }\n",
       "</style>\n",
       "<table border=\"1\" class=\"dataframe\">\n",
       "  <thead>\n",
       "    <tr style=\"text-align: right;\">\n",
       "      <th></th>\n",
       "      <th>text</th>\n",
       "      <th>submission_type</th>\n",
       "      <th>subreddit</th>\n",
       "      <th>label</th>\n",
       "      <th>labels</th>\n",
       "    </tr>\n",
       "  </thead>\n",
       "  <tbody>\n",
       "    <tr>\n",
       "      <th>0</th>\n",
       "      <td>Media: Nobody knows what kamala is about\\n\\nMe...</td>\n",
       "      <td>comment</td>\n",
       "      <td>politics</td>\n",
       "      <td>kamala</td>\n",
       "      <td>Democrat</td>\n",
       "    </tr>\n",
       "    <tr>\n",
       "      <th>1</th>\n",
       "      <td>NYT breaking news that Netanyahu has agreed to...</td>\n",
       "      <td>comment</td>\n",
       "      <td>politics</td>\n",
       "      <td>trumper</td>\n",
       "      <td>Democrat</td>\n",
       "    </tr>\n",
       "    <tr>\n",
       "      <th>2</th>\n",
       "      <td>I love how the stock crash 2 weeks ago was HUG...</td>\n",
       "      <td>comment</td>\n",
       "      <td>politics</td>\n",
       "      <td>trump</td>\n",
       "      <td>Both</td>\n",
       "    </tr>\n",
       "    <tr>\n",
       "      <th>3</th>\n",
       "      <td>I was thinking this morning about how freaking...</td>\n",
       "      <td>comment</td>\n",
       "      <td>politics</td>\n",
       "      <td>trumper</td>\n",
       "      <td>Democrat</td>\n",
       "    </tr>\n",
       "    <tr>\n",
       "      <th>4</th>\n",
       "      <td>Conservative in a purple state. I'm voting for...</td>\n",
       "      <td>comment</td>\n",
       "      <td>politics</td>\n",
       "      <td>trump</td>\n",
       "      <td>Republican</td>\n",
       "    </tr>\n",
       "  </tbody>\n",
       "</table>\n",
       "</div>"
      ],
      "text/plain": [
       "                                                text submission_type  \\\n",
       "0  Media: Nobody knows what kamala is about\\n\\nMe...         comment   \n",
       "1  NYT breaking news that Netanyahu has agreed to...         comment   \n",
       "2  I love how the stock crash 2 weeks ago was HUG...         comment   \n",
       "3  I was thinking this morning about how freaking...         comment   \n",
       "4  Conservative in a purple state. I'm voting for...         comment   \n",
       "\n",
       "  subreddit    label      labels  \n",
       "0  politics   kamala    Democrat  \n",
       "1  politics  trumper    Democrat  \n",
       "2  politics    trump        Both  \n",
       "3  politics  trumper    Democrat  \n",
       "4  politics    trump  Republican  "
      ]
     },
     "execution_count": 10,
     "metadata": {},
     "output_type": "execute_result"
    }
   ],
   "source": [
    "df.head()"
   ]
  },
  {
   "cell_type": "code",
   "execution_count": 16,
   "metadata": {},
   "outputs": [
    {
     "name": "stdout",
     "output_type": "stream",
     "text": [
      "Democrat\n"
     ]
    }
   ],
   "source": [
    "print(df.iloc[47890, 4])"
   ]
  },
  {
   "cell_type": "code",
   "execution_count": 17,
   "metadata": {},
   "outputs": [],
   "source": [
    "df.to_csv(r\"C:\\Users\\34616\\Documents\\4GEEKS\\datos_gordos\\reddit\\Scraping_results\\copias_porsiaca\\all_hotscrape_v2_elbueno_relabled.csv\")\n"
   ]
  }
 ],
 "metadata": {
  "kernelspec": {
   "display_name": "GPU_Chiclanera",
   "language": "python",
   "name": "python3"
  },
  "language_info": {
   "codemirror_mode": {
    "name": "ipython",
    "version": 3
   },
   "file_extension": ".py",
   "mimetype": "text/x-python",
   "name": "python",
   "nbconvert_exporter": "python",
   "pygments_lexer": "ipython3",
   "version": "3.11.1"
  }
 },
 "nbformat": 4,
 "nbformat_minor": 2
}
