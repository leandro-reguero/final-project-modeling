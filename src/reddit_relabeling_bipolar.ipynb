{
 "cells": [
  {
   "cell_type": "code",
   "execution_count": 3,
   "metadata": {},
   "outputs": [],
   "source": [
    "import pandas as pd\n",
    "import numpy as np"
   ]
  },
  {
   "cell_type": "code",
   "execution_count": 4,
   "metadata": {},
   "outputs": [
    {
     "data": {
      "text/html": [
       "<div>\n",
       "<style scoped>\n",
       "    .dataframe tbody tr th:only-of-type {\n",
       "        vertical-align: middle;\n",
       "    }\n",
       "\n",
       "    .dataframe tbody tr th {\n",
       "        vertical-align: top;\n",
       "    }\n",
       "\n",
       "    .dataframe thead th {\n",
       "        text-align: right;\n",
       "    }\n",
       "</style>\n",
       "<table border=\"1\" class=\"dataframe\">\n",
       "  <thead>\n",
       "    <tr style=\"text-align: right;\">\n",
       "      <th></th>\n",
       "      <th>Unnamed: 0</th>\n",
       "      <th>text</th>\n",
       "      <th>submission_type</th>\n",
       "      <th>subreddit</th>\n",
       "      <th>label</th>\n",
       "      <th>labels</th>\n",
       "    </tr>\n",
       "  </thead>\n",
       "  <tbody>\n",
       "    <tr>\n",
       "      <th>0</th>\n",
       "      <td>0</td>\n",
       "      <td>Media: Nobody knows what kamala is about\\n\\nMe...</td>\n",
       "      <td>comment</td>\n",
       "      <td>politics</td>\n",
       "      <td>kamala</td>\n",
       "      <td>Democrat</td>\n",
       "    </tr>\n",
       "    <tr>\n",
       "      <th>1</th>\n",
       "      <td>1</td>\n",
       "      <td>NYT breaking news that Netanyahu has agreed to...</td>\n",
       "      <td>comment</td>\n",
       "      <td>politics</td>\n",
       "      <td>trumper</td>\n",
       "      <td>Democrat</td>\n",
       "    </tr>\n",
       "    <tr>\n",
       "      <th>2</th>\n",
       "      <td>2</td>\n",
       "      <td>I love how the stock crash 2 weeks ago was HUG...</td>\n",
       "      <td>comment</td>\n",
       "      <td>politics</td>\n",
       "      <td>trump</td>\n",
       "      <td>Both</td>\n",
       "    </tr>\n",
       "    <tr>\n",
       "      <th>3</th>\n",
       "      <td>3</td>\n",
       "      <td>I was thinking this morning about how freaking...</td>\n",
       "      <td>comment</td>\n",
       "      <td>politics</td>\n",
       "      <td>trumper</td>\n",
       "      <td>Democrat</td>\n",
       "    </tr>\n",
       "    <tr>\n",
       "      <th>4</th>\n",
       "      <td>4</td>\n",
       "      <td>Conservative in a purple state. I'm voting for...</td>\n",
       "      <td>comment</td>\n",
       "      <td>politics</td>\n",
       "      <td>trump</td>\n",
       "      <td>Republican</td>\n",
       "    </tr>\n",
       "  </tbody>\n",
       "</table>\n",
       "</div>"
      ],
      "text/plain": [
       "   Unnamed: 0                                               text  \\\n",
       "0           0  Media: Nobody knows what kamala is about\\n\\nMe...   \n",
       "1           1  NYT breaking news that Netanyahu has agreed to...   \n",
       "2           2  I love how the stock crash 2 weeks ago was HUG...   \n",
       "3           3  I was thinking this morning about how freaking...   \n",
       "4           4  Conservative in a purple state. I'm voting for...   \n",
       "\n",
       "  submission_type subreddit    label      labels  \n",
       "0         comment  politics   kamala    Democrat  \n",
       "1         comment  politics  trumper    Democrat  \n",
       "2         comment  politics    trump        Both  \n",
       "3         comment  politics  trumper    Democrat  \n",
       "4         comment  politics    trump  Republican  "
      ]
     },
     "execution_count": 4,
     "metadata": {},
     "output_type": "execute_result"
    }
   ],
   "source": [
    "df = pd.read_csv(r\"C:\\Users\\34616\\Documents\\4GEEKS\\datos_gordos\\reddit\\Scraping_results\\copias_porsiaca\\all_hotscrape_v2_elbueno_relabled.csv\")\n",
    "df.head()"
   ]
  },
  {
   "cell_type": "code",
   "execution_count": 5,
   "metadata": {},
   "outputs": [
    {
     "data": {
      "text/plain": [
       "(187613, 6)"
      ]
     },
     "execution_count": 5,
     "metadata": {},
     "output_type": "execute_result"
    }
   ],
   "source": [
    "df.shape"
   ]
  },
  {
   "cell_type": "code",
   "execution_count": 6,
   "metadata": {},
   "outputs": [],
   "source": [
    "df = df.drop(columns=['Unnamed: 0', 'labels'])  "
   ]
  },
  {
   "cell_type": "code",
   "execution_count": 7,
   "metadata": {},
   "outputs": [
    {
     "data": {
      "text/plain": [
       "(187613, 4)"
      ]
     },
     "execution_count": 7,
     "metadata": {},
     "output_type": "execute_result"
    }
   ],
   "source": [
    "df.shape"
   ]
  },
  {
   "cell_type": "markdown",
   "metadata": {},
   "source": [
    "redefining keywords"
   ]
  },
  {
   "cell_type": "code",
   "execution_count": 10,
   "metadata": {},
   "outputs": [],
   "source": [
    "democrat_keywords = [\n",
    "    # General Democrat references\n",
    "    'democrat', 'dems', 'liberal', 'libs', 'left-wing', 'leftist', 'snowflake', \n",
    "    'blue wave', 'democratic party', 'progressive', 'woke', 'sjw', 'social justice warrior',\n",
    "\n",
    "    # Joe Biden\n",
    "    'biden', 'joe biden', 'sleepy joe', 'creepy joe', 'joey', 'the big guy', 'potato', \n",
    "    'senile joe', 'bidenflation', 'brandon', 'lets go brandon', 'bribem', \n",
    "\n",
    "    # Kamala Harris\n",
    "    'kamala', 'harris', 'kamala harris', 'heels up', 'heels up harris', 'knee pads', 'cameltoe harris', \n",
    "    'kamal', 'kamalala', 'mala mala', 'cackling harris', 'veep harris', 'madam vp', 'vp harris',\n",
    "\n",
    "    # Nancy Pelosi\n",
    "    'pelosi', 'nancy pelosi', 'crazy nancy', 'auntie nancy', 'nancypants', 'nasty nancy', 'pelo-clown', \n",
    "\n",
    "    # Barack Obama\n",
    "    'obama', 'barack obama', 'obummer', 'nobama', 'barry', 'barry soetoro',\n",
    "\n",
    "    # Alexandria Ocasio-Cortez\n",
    "    'aoc', 'alexandria ocasio-cortez', 'ocrazio', 'aocrazio', 'ocasiotard', 'aocloon', 'aoc clown', 'green new deal girl', \n",
    "    'sandy', 'bartender',\n",
    "\n",
    "    # Bernie Sanders\n",
    "    'bernie', 'bernie sanders', 'comrade sanders', 'bernout', 'feel the bern', 'grandpa socialism', 'old bernie', 'crazy bernie',\n",
    "\n",
    "    # Elizabeth Warren\n",
    "    'elizabeth warren', 'warren', 'pocahontas', 'fauxcahontas', 'lizzie warren', 'warren the warrior', 'chief warren',\n",
    "\n",
    "    # Other prominent Democrats\n",
    "    'hillary', 'hillary clinton', 'crooked hillary', 'killary', 'clinton', 'chelsea clinton', 'the clintons', \n",
    "    'adam schiff', 'schifty schiff', 'shifty schiff', 'jerry nadler', 'fat jerry',\n",
    "\n",
    "    # Voters/supporters\n",
    "    'dem voter', 'democrats supporter', 'lib voter', 'woke mob', 'sjw army', 'antifa', 'lefty', 'blm', 'black lives matter', \n",
    "    'democrat loyalist', 'progressive left', 'radical left', 'anarchist', 'feminazi', 'the squad'\n",
    "]\n",
    "\n",
    "republican_keywords = [\n",
    "    # General Republican references\n",
    "    'republican', 'gop', 'right-wing', 'rightie', 'conservative', 'maga', 'red wave', 'republican party', \n",
    "    'patriot', 'nationalist', 'the right', 'alt-right', 'alt right', 'chud', 'repubtard', 'repugs', \n",
    "\n",
    "    # Donald Trump\n",
    "    'trump', 'donald trump', 'donald', 'the donald', 'orange man', 'orangutan', 'orangeman bad', 'drumpf', 'trumpster', \n",
    "    'trumptard', 'trumpkin', 'the cheeto', 'cheeto jesus', 'maga king', 'god emperor', 'tangerine tyrant', '45', \n",
    "    'donald dump', 'trumpanzee', 'trumplethinskin', 'trumpenstein', 'orange'\n",
    "\n",
    "    # Other Trump family members\n",
    "    'melania', 'melania trump', 'ivanka', 'ivanka trump', 'eric trump', 'donald jr', 'don jr', 'tiffany trump', 'barron trump',\n",
    "\n",
    "    # Ted Cruz\n",
    "    'ted cruz', 'lyin ted', 'cruz missile', 'creepy cruz', 'texas senator', \n",
    "\n",
    "    # Mitch McConnell\n",
    "    'mitch mcconnell', 'mcconnell', 'mitch the turtle', 'mitch', 'moscow mitch', 'the turtle',\n",
    "\n",
    "    # Ron DeSantis\n",
    "    'ron desantis', 'desantis', 'deathsantis', 'florida man', 'governor desantis', 'ron the con', 'rondesantis', 'rondan', \n",
    "\n",
    "    # Lindsey Graham\n",
    "    'lindsey graham', 'lady g', 'graham cracker', 'closet graham', 'senator graham', 'miss lindsey', \n",
    "\n",
    "    # Other prominent Republicans\n",
    "    'mike pence', 'pence', 'iron mike', 'deputy dog', 'kevin mccarthy', 'sean hannity', 'tucker carlson', \n",
    "    'matt gaetz', 'gaetz', 'fox news', 'gutfeld', 'tom cotton', 'josh hawley', 'lauren boebert', 'marjorie taylor greene', \n",
    "    'mgt', 'green new deal reject',\n",
    "\n",
    "    # Voters/supporters\n",
    "    'maga voter', 'maga mob', 'trump voter', 'trumpist', 'patriot', 'republican loyalist', 'trump supporter', \n",
    "    'deplorable', 'qanon', 'trump army', 'right-winger', 'christian conservative', 'militia', 'gun rights', '2nd amendment'\n",
    "]\n"
   ]
  },
  {
   "cell_type": "code",
   "execution_count": 11,
   "metadata": {},
   "outputs": [],
   "source": [
    "import re\n",
    "\n",
    "def contains_keywords(text, keyword_list):\n",
    "    for keyword in keyword_list:\n",
    "        # si la keyword es una frase, buscar la frase entera\n",
    "        if ' ' in keyword:\n",
    "            if keyword.lower() in text.lower():\n",
    "                return True\n",
    "        else:\n",
    "            # si la keyword es una palabra, buscamos únicamente la palabra entera (no substrings) \n",
    "            if re.search(r'\\b' + re.escape(keyword) + r'\\b', text.lower()):\n",
    "                return True\n",
    "    return False\n",
    "\n",
    "def contains_republican_keyword(text):\n",
    "    return contains_keywords(text, republican_keywords)\n",
    "\n",
    "def contains_democrat_keyword(text):\n",
    "    return contains_keywords(text, democrat_keywords)"
   ]
  },
  {
   "cell_type": "code",
   "execution_count": 12,
   "metadata": {},
   "outputs": [],
   "source": [
    "def relabel_posts(df):\n",
    "    new_labels = []\n",
    "\n",
    "    for text in df['text']:\n",
    "        democrat_found = contains_democrat_keyword(text)\n",
    "        republican_found = contains_republican_keyword(text)\n",
    "\n",
    "        if democrat_found and republican_found:\n",
    "            new_labels.append('Both')\n",
    "        elif democrat_found:\n",
    "            new_labels.append('Democrat')\n",
    "        elif republican_found:\n",
    "            new_labels.append('Republican')\n",
    "        else:\n",
    "            new_labels.append('Neutral')\n",
    "    \n",
    "    # Update the DataFrame with the new labels\n",
    "    df['labels'] = new_labels\n",
    "    return df"
   ]
  },
  {
   "cell_type": "code",
   "execution_count": 13,
   "metadata": {},
   "outputs": [],
   "source": [
    "df = relabel_posts(df)"
   ]
  },
  {
   "cell_type": "code",
   "execution_count": 14,
   "metadata": {},
   "outputs": [
    {
     "data": {
      "text/html": [
       "<div>\n",
       "<style scoped>\n",
       "    .dataframe tbody tr th:only-of-type {\n",
       "        vertical-align: middle;\n",
       "    }\n",
       "\n",
       "    .dataframe tbody tr th {\n",
       "        vertical-align: top;\n",
       "    }\n",
       "\n",
       "    .dataframe thead th {\n",
       "        text-align: right;\n",
       "    }\n",
       "</style>\n",
       "<table border=\"1\" class=\"dataframe\">\n",
       "  <thead>\n",
       "    <tr style=\"text-align: right;\">\n",
       "      <th></th>\n",
       "      <th>text</th>\n",
       "      <th>submission_type</th>\n",
       "      <th>subreddit</th>\n",
       "      <th>label</th>\n",
       "      <th>labels</th>\n",
       "    </tr>\n",
       "  </thead>\n",
       "  <tbody>\n",
       "    <tr>\n",
       "      <th>0</th>\n",
       "      <td>Media: Nobody knows what kamala is about\\n\\nMe...</td>\n",
       "      <td>comment</td>\n",
       "      <td>politics</td>\n",
       "      <td>kamala</td>\n",
       "      <td>Democrat</td>\n",
       "    </tr>\n",
       "    <tr>\n",
       "      <th>1</th>\n",
       "      <td>NYT breaking news that Netanyahu has agreed to...</td>\n",
       "      <td>comment</td>\n",
       "      <td>politics</td>\n",
       "      <td>trumper</td>\n",
       "      <td>Democrat</td>\n",
       "    </tr>\n",
       "    <tr>\n",
       "      <th>2</th>\n",
       "      <td>I love how the stock crash 2 weeks ago was HUG...</td>\n",
       "      <td>comment</td>\n",
       "      <td>politics</td>\n",
       "      <td>trump</td>\n",
       "      <td>Both</td>\n",
       "    </tr>\n",
       "    <tr>\n",
       "      <th>3</th>\n",
       "      <td>I was thinking this morning about how freaking...</td>\n",
       "      <td>comment</td>\n",
       "      <td>politics</td>\n",
       "      <td>trumper</td>\n",
       "      <td>Democrat</td>\n",
       "    </tr>\n",
       "    <tr>\n",
       "      <th>4</th>\n",
       "      <td>Conservative in a purple state. I'm voting for...</td>\n",
       "      <td>comment</td>\n",
       "      <td>politics</td>\n",
       "      <td>trump</td>\n",
       "      <td>Both</td>\n",
       "    </tr>\n",
       "  </tbody>\n",
       "</table>\n",
       "</div>"
      ],
      "text/plain": [
       "                                                text submission_type  \\\n",
       "0  Media: Nobody knows what kamala is about\\n\\nMe...         comment   \n",
       "1  NYT breaking news that Netanyahu has agreed to...         comment   \n",
       "2  I love how the stock crash 2 weeks ago was HUG...         comment   \n",
       "3  I was thinking this morning about how freaking...         comment   \n",
       "4  Conservative in a purple state. I'm voting for...         comment   \n",
       "\n",
       "  subreddit    label    labels  \n",
       "0  politics   kamala  Democrat  \n",
       "1  politics  trumper  Democrat  \n",
       "2  politics    trump      Both  \n",
       "3  politics  trumper  Democrat  \n",
       "4  politics    trump      Both  "
      ]
     },
     "execution_count": 14,
     "metadata": {},
     "output_type": "execute_result"
    }
   ],
   "source": [
    "df.head()"
   ]
  },
  {
   "cell_type": "code",
   "execution_count": 16,
   "metadata": {},
   "outputs": [
    {
     "data": {
      "text/plain": [
       "\"I love how the stock crash 2 weeks ago was HUGE news all over every station, but the 100% recovery from it doesn't get a single minute of airtime.\\n\\nThe conservative safe-space on reddit was acting like it was over for Harris, but now not a peep.\\n\\n***The Biden/Harris economy has proven to be strong and incredibly resilient*** - where's that NYT headline?\\n\\nThe media is working overtime to get Trump re-elected, there is no left-wing media...only center-right or far-right.\\n\\nOnly silver lining seems to be that the people aren't being fooled anymore, polls looking great for Kamala!\""
      ]
     },
     "execution_count": 16,
     "metadata": {},
     "output_type": "execute_result"
    }
   ],
   "source": [
    "df['text'].iloc[2]"
   ]
  },
  {
   "cell_type": "code",
   "execution_count": 17,
   "metadata": {},
   "outputs": [],
   "source": [
    "df.to_csv(r\"C:\\Users\\34616\\Documents\\4GEEKS\\datos_gordos\\reddit\\Scraping_results\\copias_porsiaca\\all_hotscrape_v2_elbueno_relabled_v2.csv\")\n"
   ]
  },
  {
   "cell_type": "code",
   "execution_count": 25,
   "metadata": {},
   "outputs": [],
   "source": [
    "import pandas as pd\n",
    " \n",
    "df = pd.read_csv(r\"C:\\Users\\34616\\Documents\\4GEEKS\\datos_gordos\\reddit\\Scraping_results\\copias_porsiaca\\all_hotscrape_v2_elbueno_relabled_v2.csv\")"
   ]
  },
  {
   "cell_type": "code",
   "execution_count": 26,
   "metadata": {},
   "outputs": [
    {
     "name": "stdout",
     "output_type": "stream",
     "text": [
      "df total: 187613\n",
      "both: 38584\n",
      "df - both: 149029\n",
      "Solo bipolar: 84045\n"
     ]
    }
   ],
   "source": [
    "both = df[df['labels'] == 'Both']\n",
    "neutro = df[df['labels'] == 'Neutral']\n",
    "print(f\"df total: {len(df)}\")\n",
    "print(f\"both: {len(both)}\")\n",
    "print(f\"df - both: {len(df) - len(both)}\")\n",
    "print(f\"Solo bipolar: {len(df) - len(both) - len(neutro)}\")"
   ]
  },
  {
   "cell_type": "code",
   "execution_count": 27,
   "metadata": {},
   "outputs": [
    {
     "data": {
      "text/plain": [
       "(84045, 6)"
      ]
     },
     "execution_count": 27,
     "metadata": {},
     "output_type": "execute_result"
    }
   ],
   "source": [
    "df_bipolar = df[df['labels'].isin(['Democrat', 'Republican'])]\n",
    "df_bipolar.shape\n"
   ]
  },
  {
   "cell_type": "code",
   "execution_count": 28,
   "metadata": {},
   "outputs": [
    {
     "data": {
      "text/plain": [
       "labels\n",
       "Republican    55333\n",
       "Democrat      28712\n",
       "Name: count, dtype: int64"
      ]
     },
     "execution_count": 28,
     "metadata": {},
     "output_type": "execute_result"
    }
   ],
   "source": [
    "df_bipolar['labels'].value_counts()"
   ]
  },
  {
   "cell_type": "code",
   "execution_count": 30,
   "metadata": {},
   "outputs": [
    {
     "data": {
      "text/html": [
       "<div>\n",
       "<style scoped>\n",
       "    .dataframe tbody tr th:only-of-type {\n",
       "        vertical-align: middle;\n",
       "    }\n",
       "\n",
       "    .dataframe tbody tr th {\n",
       "        vertical-align: top;\n",
       "    }\n",
       "\n",
       "    .dataframe thead th {\n",
       "        text-align: right;\n",
       "    }\n",
       "</style>\n",
       "<table border=\"1\" class=\"dataframe\">\n",
       "  <thead>\n",
       "    <tr style=\"text-align: right;\">\n",
       "      <th></th>\n",
       "      <th>text</th>\n",
       "      <th>submission_type</th>\n",
       "      <th>subreddit</th>\n",
       "      <th>labels</th>\n",
       "    </tr>\n",
       "  </thead>\n",
       "  <tbody>\n",
       "    <tr>\n",
       "      <th>0</th>\n",
       "      <td>Media: Nobody knows what kamala is about\\n\\nMe...</td>\n",
       "      <td>comment</td>\n",
       "      <td>politics</td>\n",
       "      <td>Democrat</td>\n",
       "    </tr>\n",
       "    <tr>\n",
       "      <th>1</th>\n",
       "      <td>NYT breaking news that Netanyahu has agreed to...</td>\n",
       "      <td>comment</td>\n",
       "      <td>politics</td>\n",
       "      <td>Democrat</td>\n",
       "    </tr>\n",
       "    <tr>\n",
       "      <th>3</th>\n",
       "      <td>I was thinking this morning about how freaking...</td>\n",
       "      <td>comment</td>\n",
       "      <td>politics</td>\n",
       "      <td>Democrat</td>\n",
       "    </tr>\n",
       "    <tr>\n",
       "      <th>6</th>\n",
       "      <td>I was on a break talking to a 25-year old cowo...</td>\n",
       "      <td>comment</td>\n",
       "      <td>politics</td>\n",
       "      <td>Republican</td>\n",
       "    </tr>\n",
       "    <tr>\n",
       "      <th>10</th>\n",
       "      <td>Went to the Kamala rally today in WI and it wa...</td>\n",
       "      <td>comment</td>\n",
       "      <td>politics</td>\n",
       "      <td>Democrat</td>\n",
       "    </tr>\n",
       "  </tbody>\n",
       "</table>\n",
       "</div>"
      ],
      "text/plain": [
       "                                                 text submission_type  \\\n",
       "0   Media: Nobody knows what kamala is about\\n\\nMe...         comment   \n",
       "1   NYT breaking news that Netanyahu has agreed to...         comment   \n",
       "3   I was thinking this morning about how freaking...         comment   \n",
       "6   I was on a break talking to a 25-year old cowo...         comment   \n",
       "10  Went to the Kamala rally today in WI and it wa...         comment   \n",
       "\n",
       "   subreddit      labels  \n",
       "0   politics    Democrat  \n",
       "1   politics    Democrat  \n",
       "3   politics    Democrat  \n",
       "6   politics  Republican  \n",
       "10  politics    Democrat  "
      ]
     },
     "execution_count": 30,
     "metadata": {},
     "output_type": "execute_result"
    }
   ],
   "source": [
    "df_bipolar = df_bipolar.drop(columns=['Unnamed: 0'])\n",
    "df_bipolar.head()"
   ]
  },
  {
   "cell_type": "code",
   "execution_count": 33,
   "metadata": {},
   "outputs": [],
   "source": [
    "df_bipolar.reset_index()\n",
    "df_bipolar = df_bipolar.drop('index', axis=1)"
   ]
  },
  {
   "cell_type": "code",
   "execution_count": 34,
   "metadata": {},
   "outputs": [
    {
     "data": {
      "text/html": [
       "<div>\n",
       "<style scoped>\n",
       "    .dataframe tbody tr th:only-of-type {\n",
       "        vertical-align: middle;\n",
       "    }\n",
       "\n",
       "    .dataframe tbody tr th {\n",
       "        vertical-align: top;\n",
       "    }\n",
       "\n",
       "    .dataframe thead th {\n",
       "        text-align: right;\n",
       "    }\n",
       "</style>\n",
       "<table border=\"1\" class=\"dataframe\">\n",
       "  <thead>\n",
       "    <tr style=\"text-align: right;\">\n",
       "      <th></th>\n",
       "      <th>text</th>\n",
       "      <th>submission_type</th>\n",
       "      <th>subreddit</th>\n",
       "      <th>labels</th>\n",
       "    </tr>\n",
       "  </thead>\n",
       "  <tbody>\n",
       "    <tr>\n",
       "      <th>0</th>\n",
       "      <td>Media: Nobody knows what kamala is about\\n\\nMe...</td>\n",
       "      <td>comment</td>\n",
       "      <td>politics</td>\n",
       "      <td>Democrat</td>\n",
       "    </tr>\n",
       "    <tr>\n",
       "      <th>1</th>\n",
       "      <td>NYT breaking news that Netanyahu has agreed to...</td>\n",
       "      <td>comment</td>\n",
       "      <td>politics</td>\n",
       "      <td>Democrat</td>\n",
       "    </tr>\n",
       "    <tr>\n",
       "      <th>2</th>\n",
       "      <td>I was thinking this morning about how freaking...</td>\n",
       "      <td>comment</td>\n",
       "      <td>politics</td>\n",
       "      <td>Democrat</td>\n",
       "    </tr>\n",
       "    <tr>\n",
       "      <th>3</th>\n",
       "      <td>I was on a break talking to a 25-year old cowo...</td>\n",
       "      <td>comment</td>\n",
       "      <td>politics</td>\n",
       "      <td>Republican</td>\n",
       "    </tr>\n",
       "    <tr>\n",
       "      <th>4</th>\n",
       "      <td>Went to the Kamala rally today in WI and it wa...</td>\n",
       "      <td>comment</td>\n",
       "      <td>politics</td>\n",
       "      <td>Democrat</td>\n",
       "    </tr>\n",
       "  </tbody>\n",
       "</table>\n",
       "</div>"
      ],
      "text/plain": [
       "                                                text submission_type  \\\n",
       "0  Media: Nobody knows what kamala is about\\n\\nMe...         comment   \n",
       "1  NYT breaking news that Netanyahu has agreed to...         comment   \n",
       "2  I was thinking this morning about how freaking...         comment   \n",
       "3  I was on a break talking to a 25-year old cowo...         comment   \n",
       "4  Went to the Kamala rally today in WI and it wa...         comment   \n",
       "\n",
       "  subreddit      labels  \n",
       "0  politics    Democrat  \n",
       "1  politics    Democrat  \n",
       "2  politics    Democrat  \n",
       "3  politics  Republican  \n",
       "4  politics    Democrat  "
      ]
     },
     "execution_count": 34,
     "metadata": {},
     "output_type": "execute_result"
    }
   ],
   "source": [
    "df_bipolar.head()"
   ]
  },
  {
   "cell_type": "markdown",
   "metadata": {},
   "source": [
    "opcion a: continuar con lo que tenemos --> balancear bipolar, analizar sentimiento --> luego quiza scrapear mas\n",
    "\n",
    "pasos: \n",
    "1. evaluar y comprobar el etiquetado actual (leer en diagonal)\n",
    "2. reducir y balancear (se habla más de trump es una realidad, runnear imbalanced?)\n",
    "3. a correr el modelo --> sacar las 3 etiquetas (percentages)\n",
    "4. scrapear más si hace falta (drop duplicates)\n",
    "5. web-app / prototipado\n",
    "5. presentación y docu\n"
   ]
  },
  {
   "cell_type": "code",
   "execution_count": 35,
   "metadata": {},
   "outputs": [],
   "source": [
    "df_bipolar.to_csv(r\"C:\\Users\\34616\\Documents\\4GEEKS\\datos_gordos\\reddit\\Bipolar\\df_bipolar_full.csv\", index=False)"
   ]
  },
  {
   "cell_type": "code",
   "execution_count": 36,
   "metadata": {},
   "outputs": [],
   "source": [
    "df_bipolar_andrea = df_bipolar.iloc[:len(df_bipolar)//3]\n",
    "df_bipolar_samuel = df_bipolar.iloc[len(df_bipolar)//3: 2*len(df_bipolar)//3]\n",
    "df_bipolar_lean = df_bipolar.iloc[2*len(df_bipolar)//3:]\n",
    "\n",
    "df_bipolar_andrea.to_csv(r\"C:\\Users\\34616\\Documents\\4GEEKS\\datos_gordos\\reddit\\Bipolar\\df_bipolar_andrea.csv\", index=False)\n",
    "df_bipolar_samuel.to_csv(r\"C:\\Users\\34616\\Documents\\4GEEKS\\datos_gordos\\reddit\\Bipolar\\df_bipolar_samuel.csv\", index=False)\n",
    "df_bipolar_lean.to_csv(r\"C:\\Users\\34616\\Documents\\4GEEKS\\datos_gordos\\reddit\\Bipolar\\df_bipolar_lean.csv\", index=False)\n"
   ]
  },
  {
   "cell_type": "code",
   "execution_count": 37,
   "metadata": {},
   "outputs": [
    {
     "data": {
      "text/plain": [
       "28015"
      ]
     },
     "execution_count": 37,
     "metadata": {},
     "output_type": "execute_result"
    }
   ],
   "source": [
    "len(df_bipolar_andrea)"
   ]
  },
  {
   "cell_type": "code",
   "execution_count": 38,
   "metadata": {},
   "outputs": [
    {
     "data": {
      "text/plain": [
       "28015"
      ]
     },
     "execution_count": 38,
     "metadata": {},
     "output_type": "execute_result"
    }
   ],
   "source": [
    "len(df_bipolar_samuel)"
   ]
  },
  {
   "cell_type": "code",
   "execution_count": 39,
   "metadata": {},
   "outputs": [
    {
     "data": {
      "text/plain": [
       "28015"
      ]
     },
     "execution_count": 39,
     "metadata": {},
     "output_type": "execute_result"
    }
   ],
   "source": [
    "len(df_bipolar_lean)"
   ]
  }
 ],
 "metadata": {
  "kernelspec": {
   "display_name": "GPU_Chiclanera",
   "language": "python",
   "name": "python3"
  },
  "language_info": {
   "codemirror_mode": {
    "name": "ipython",
    "version": 3
   },
   "file_extension": ".py",
   "mimetype": "text/x-python",
   "name": "python",
   "nbconvert_exporter": "python",
   "pygments_lexer": "ipython3",
   "version": "3.11.1"
  }
 },
 "nbformat": 4,
 "nbformat_minor": 2
}
